{
 "cells": [
  {
   "cell_type": "code",
   "execution_count": 1,
   "id": "b56dd397",
   "metadata": {},
   "outputs": [],
   "source": [
    "import os\n",
    "import glob\n",
    "import pandas as pd\n",
    "import numpy as np"
   ]
  },
  {
   "cell_type": "markdown",
   "id": "3f9df1c1",
   "metadata": {},
   "source": [
    "Unlike the other code, this is for old files that contain hard-filtered instead of snvs_indels and 03_snvs and sub-folder"
   ]
  },
  {
   "cell_type": "code",
   "execution_count": 6,
   "id": "9a2f2c48",
   "metadata": {},
   "outputs": [
    {
     "data": {
      "text/plain": [
       "['/cegatbucket/cegatsamples/S7100_230626_0915/03_snvs/210279_S7100Nr893_wgs.hard-filtered.vcf.gz',\n",
       " '/cegatbucket/cegatsamples/S7100_230626_0915/03_snvs/210290_S7100Nr888_wgs.hard-filtered.vcf.gz',\n",
       " '/cegatbucket/cegatsamples/S7100_230626_0915/03_snvs/210292_S7100Nr904_wgs.hard-filtered.vcf.gz',\n",
       " '/cegatbucket/cegatsamples/S7100_230626_0915/03_snvs/210297_S7100Nr901_wgs.hard-filtered.vcf.gz',\n",
       " '/cegatbucket/cegatsamples/S7100_230626_0915/03_snvs/210301_S7100Nr911_wgs.hard-filtered.vcf.gz',\n",
       " '/cegatbucket/cegatsamples/S7100_230626_0915/03_snvs/210302_S7100Nr912_wgs.hard-filtered.vcf.gz',\n",
       " '/cegatbucket/cegatsamples/S7100_230626_0915/03_snvs/210303_S7100Nr910_wgs.hard-filtered.vcf.gz',\n",
       " '/cegatbucket/cegatsamples/S7100_230626_0915/03_snvs/210306_S7100Nr909_wgs.hard-filtered.vcf.gz',\n",
       " '/cegatbucket/cegatsamples/S7100_230626_0915/03_snvs/210311_S7100Nr898_wgs.hard-filtered.vcf.gz',\n",
       " '/cegatbucket/cegatsamples/S7100_230626_0915/03_snvs/210313_S7100Nr914_wgs.hard-filtered.vcf.gz',\n",
       " '/cegatbucket/cegatsamples/S7100_230626_0915/03_snvs/210314_S7100Nr918_wgs.hard-filtered.vcf.gz',\n",
       " '/cegatbucket/cegatsamples/S7100_230626_0915/03_snvs/210315_S7100Nr916_wgs.hard-filtered.vcf.gz',\n",
       " '/cegatbucket/cegatsamples/S7100_230626_0915/03_snvs/210316_S7100Nr915_wgs.hard-filtered.vcf.gz',\n",
       " '/cegatbucket/cegatsamples/S7100_230626_0915/03_snvs/210317_S7100Nr917_wgs.hard-filtered.vcf.gz',\n",
       " '/cegatbucket/cegatsamples/S7100_230626_0915/03_snvs/210318_S7100Nr922_wgs.hard-filtered.vcf.gz',\n",
       " '/cegatbucket/cegatsamples/S7100_230626_0915/03_snvs/210319_S7100Nr913_wgs.hard-filtered.vcf.gz',\n",
       " '/cegatbucket/cegatsamples/S7100_230626_0915/03_snvs/210320_S7100Nr923_wgs.hard-filtered.vcf.gz',\n",
       " '/cegatbucket/cegatsamples/S7100_230626_0915/03_snvs/210321_S7100Nr924_wgs.hard-filtered.vcf.gz',\n",
       " '/cegatbucket/cegatsamples/S7100_230626_0915/03_snvs/210322_S7100Nr925_wgs.hard-filtered.vcf.gz',\n",
       " '/cegatbucket/cegatsamples/S7100_230626_0915/03_snvs/210323_S7100Nr921_wgs.hard-filtered.vcf.gz',\n",
       " '/cegatbucket/cegatsamples/S7100_230626_0915/03_snvs/210324_S7100Nr920_wgs.hard-filtered.vcf.gz',\n",
       " '/cegatbucket/cegatsamples/S7100_230626_0915/03_snvs/210325_S7100Nr919_wgs.hard-filtered.vcf.gz',\n",
       " '/cegatbucket/cegatsamples/S7100_230626_0915/03_snvs/210327_S7100Nr926_wgs.hard-filtered.vcf.gz']"
      ]
     },
     "execution_count": 6,
     "metadata": {},
     "output_type": "execute_result"
    }
   ],
   "source": [
    "glob.glob(\"/cegatbucket/cegatsamples/S7100_230626_0915/03_snvs/*.hard-filtered.vcf.gz\")"
   ]
  },
  {
   "cell_type": "code",
   "execution_count": 9,
   "id": "e140a559",
   "metadata": {},
   "outputs": [
    {
     "data": {
      "text/plain": [
       "58"
      ]
     },
     "execution_count": 9,
     "metadata": {},
     "output_type": "execute_result"
    }
   ],
   "source": [
    "folders=glob.glob(\"/cegatbucket/cegatsamples/S7100*/03_snvs/\")\n",
    "len(folders)"
   ]
  },
  {
   "cell_type": "code",
   "execution_count": 10,
   "id": "e6f44b19",
   "metadata": {},
   "outputs": [
    {
     "name": "stdout",
     "output_type": "stream",
     "text": [
      "/cegatbucket/cegatsamples/S7100_230206_CustomReference/03_snvs/\n",
      "/cegatbucket/cegatsamples/S7100_230413_0827/03_snvs/\n",
      "/cegatbucket/cegatsamples/S7100_230418_0919/03_snvs/\n",
      "/cegatbucket/cegatsamples/S7100_230503_1504/03_snvs/\n",
      "/cegatbucket/cegatsamples/S7100_230511_1011/03_snvs/\n",
      "/cegatbucket/cegatsamples/S7100_230516_1042/03_snvs/\n",
      "/cegatbucket/cegatsamples/S7100_230523_0918/03_snvs/\n",
      "/cegatbucket/cegatsamples/S7100_230531_1716/03_snvs/\n",
      "/cegatbucket/cegatsamples/S7100_230605_1036/03_snvs/\n",
      "/cegatbucket/cegatsamples/S7100_230606_0935/03_snvs/\n",
      "/cegatbucket/cegatsamples/S7100_230613_0838/03_snvs/\n",
      "/cegatbucket/cegatsamples/S7100_230626_0915/03_snvs/\n",
      "/cegatbucket/cegatsamples/S7100_230627_1322/03_snvs/\n",
      "/cegatbucket/cegatsamples/S7100_230704_1252/03_snvs/\n",
      "/cegatbucket/cegatsamples/S7100_230711_0919/03_snvs/\n",
      "/cegatbucket/cegatsamples/S7100_230718_1706/03_snvs/\n",
      "/cegatbucket/cegatsamples/S7100_230719_2042/03_snvs/\n",
      "/cegatbucket/cegatsamples/S7100_230726_0944/03_snvs/\n",
      "/cegatbucket/cegatsamples/S7100_230727_1604/03_snvs/\n",
      "/cegatbucket/cegatsamples/S7100_230731_1010/03_snvs/\n",
      "/cegatbucket/cegatsamples/S7100_230801_1219/03_snvs/\n",
      "/cegatbucket/cegatsamples/S7100_230808_0853/03_snvs/\n",
      "/cegatbucket/cegatsamples/S7100_230809_1022/03_snvs/\n",
      "/cegatbucket/cegatsamples/S7100_230811_1538/03_snvs/\n",
      "/cegatbucket/cegatsamples/S7100_230814_2037/03_snvs/\n",
      "/cegatbucket/cegatsamples/S7100_230819_0019/03_snvs/\n",
      "/cegatbucket/cegatsamples/S7100_230822_0914/03_snvs/\n",
      "/cegatbucket/cegatsamples/S7100_230823_1320/03_snvs/\n",
      "/cegatbucket/cegatsamples/S7100_230825_1254/03_snvs/\n",
      "/cegatbucket/cegatsamples/S7100_230831_0924/03_snvs/\n",
      "/cegatbucket/cegatsamples/S7100_230901_1307/03_snvs/\n",
      "/cegatbucket/cegatsamples/S7100_230904_1010/03_snvs/\n",
      "/cegatbucket/cegatsamples/S7100_230905_1803/03_snvs/\n",
      "/cegatbucket/cegatsamples/S7100_230910_2203/03_snvs/\n",
      "/cegatbucket/cegatsamples/S7100_230911_0940/03_snvs/\n",
      "/cegatbucket/cegatsamples/S7100_230912_1020/03_snvs/\n",
      "/cegatbucket/cegatsamples/S7100_230913_1343/03_snvs/\n",
      "/cegatbucket/cegatsamples/S7100_230918_1013/03_snvs/\n",
      "/cegatbucket/cegatsamples/S7100_230918_2224/03_snvs/\n",
      "/cegatbucket/cegatsamples/S7100_230925_1343/03_snvs/\n",
      "/cegatbucket/cegatsamples/S7100_230926_0939/03_snvs/\n",
      "/cegatbucket/cegatsamples/S7100_230926_1536/03_snvs/\n",
      "/cegatbucket/cegatsamples/S7100_231002_1400/03_snvs/\n",
      "/cegatbucket/cegatsamples/S7100_231004_1115/03_snvs/\n",
      "/cegatbucket/cegatsamples/S7100_231010_1505/03_snvs/\n",
      "/cegatbucket/cegatsamples/S7100_231012_0909/03_snvs/\n",
      "/cegatbucket/cegatsamples/S7100_231017_2217/03_snvs/\n",
      "/cegatbucket/cegatsamples/S7100_231018_1132/03_snvs/\n",
      "/cegatbucket/cegatsamples/S7100_231024_1607/03_snvs/\n",
      "/cegatbucket/cegatsamples/S7100_231030_1145/03_snvs/\n",
      "/cegatbucket/cegatsamples/S7100_231030_1400/03_snvs/\n",
      "/cegatbucket/cegatsamples/S7100_231031_1008/03_snvs/\n",
      "/cegatbucket/cegatsamples/S7100_231106_1248/03_snvs/\n",
      "/cegatbucket/cegatsamples/S7100_231107_1422/03_snvs/\n",
      "/cegatbucket/cegatsamples/S7100_231114_1054/03_snvs/\n",
      "/cegatbucket/cegatsamples/S7100_231114_1533/03_snvs/\n",
      "/cegatbucket/cegatsamples/S7100_231121_0857/03_snvs/\n",
      "/cegatbucket/cegatsamples/S7100_231129_1105/03_snvs/\n"
     ]
    },
    {
     "data": {
      "text/html": [
       "<div>\n",
       "<style scoped>\n",
       "    .dataframe tbody tr th:only-of-type {\n",
       "        vertical-align: middle;\n",
       "    }\n",
       "\n",
       "    .dataframe tbody tr th {\n",
       "        vertical-align: top;\n",
       "    }\n",
       "\n",
       "    .dataframe thead th {\n",
       "        text-align: right;\n",
       "    }\n",
       "</style>\n",
       "<table border=\"1\" class=\"dataframe\">\n",
       "  <thead>\n",
       "    <tr style=\"text-align: right;\">\n",
       "      <th></th>\n",
       "      <th>file</th>\n",
       "      <th>orderid</th>\n",
       "    </tr>\n",
       "  </thead>\n",
       "  <tbody>\n",
       "    <tr>\n",
       "      <th>0</th>\n",
       "      <td>/cegatbucket/cegatsamples/S7100_230206_CustomR...</td>\n",
       "      <td>201207</td>\n",
       "    </tr>\n",
       "    <tr>\n",
       "      <th>1</th>\n",
       "      <td>/cegatbucket/cegatsamples/S7100_230206_CustomR...</td>\n",
       "      <td>201209</td>\n",
       "    </tr>\n",
       "    <tr>\n",
       "      <th>2</th>\n",
       "      <td>/cegatbucket/cegatsamples/S7100_230206_CustomR...</td>\n",
       "      <td>201213</td>\n",
       "    </tr>\n",
       "    <tr>\n",
       "      <th>3</th>\n",
       "      <td>/cegatbucket/cegatsamples/S7100_230206_CustomR...</td>\n",
       "      <td>201221</td>\n",
       "    </tr>\n",
       "    <tr>\n",
       "      <th>4</th>\n",
       "      <td>/cegatbucket/cegatsamples/S7100_230206_CustomR...</td>\n",
       "      <td>201226</td>\n",
       "    </tr>\n",
       "    <tr>\n",
       "      <th>...</th>\n",
       "      <td>...</td>\n",
       "      <td>...</td>\n",
       "    </tr>\n",
       "    <tr>\n",
       "      <th>967</th>\n",
       "      <td>/cegatbucket/cegatsamples/S7100_231129_1105/03...</td>\n",
       "      <td>211634</td>\n",
       "    </tr>\n",
       "    <tr>\n",
       "      <th>968</th>\n",
       "      <td>/cegatbucket/cegatsamples/S7100_231129_1105/03...</td>\n",
       "      <td>211652</td>\n",
       "    </tr>\n",
       "    <tr>\n",
       "      <th>969</th>\n",
       "      <td>/cegatbucket/cegatsamples/S7100_231129_1105/03...</td>\n",
       "      <td>211660</td>\n",
       "    </tr>\n",
       "    <tr>\n",
       "      <th>970</th>\n",
       "      <td>/cegatbucket/cegatsamples/S7100_231129_1105/03...</td>\n",
       "      <td>211663</td>\n",
       "    </tr>\n",
       "    <tr>\n",
       "      <th>971</th>\n",
       "      <td>/cegatbucket/cegatsamples/S7100_231129_1105/03...</td>\n",
       "      <td>211664</td>\n",
       "    </tr>\n",
       "  </tbody>\n",
       "</table>\n",
       "<p>972 rows × 2 columns</p>\n",
       "</div>"
      ],
      "text/plain": [
       "                                                  file orderid\n",
       "0    /cegatbucket/cegatsamples/S7100_230206_CustomR...  201207\n",
       "1    /cegatbucket/cegatsamples/S7100_230206_CustomR...  201209\n",
       "2    /cegatbucket/cegatsamples/S7100_230206_CustomR...  201213\n",
       "3    /cegatbucket/cegatsamples/S7100_230206_CustomR...  201221\n",
       "4    /cegatbucket/cegatsamples/S7100_230206_CustomR...  201226\n",
       "..                                                 ...     ...\n",
       "967  /cegatbucket/cegatsamples/S7100_231129_1105/03...  211634\n",
       "968  /cegatbucket/cegatsamples/S7100_231129_1105/03...  211652\n",
       "969  /cegatbucket/cegatsamples/S7100_231129_1105/03...  211660\n",
       "970  /cegatbucket/cegatsamples/S7100_231129_1105/03...  211663\n",
       "971  /cegatbucket/cegatsamples/S7100_231129_1105/03...  211664\n",
       "\n",
       "[972 rows x 2 columns]"
      ]
     },
     "execution_count": 10,
     "metadata": {},
     "output_type": "execute_result"
    }
   ],
   "source": [
    "vcf_files=pd.DataFrame()\n",
    "for i in folders:\n",
    "    print(i)\n",
    "    temp=pd.DataFrame(glob.glob(i + \"*.hard-filtered.vcf.gz\"), columns=[\"file\"])\n",
    "    temp[\"orderid\"]= temp[\"file\"].str.split(\"/\",expand=True).iloc[:,-1].str.split(\"_\",expand=True).iloc[:,0]\n",
    "    vcf_files = pd.concat([vcf_files, temp], ignore_index=True)\n",
    "vcf_files"
   ]
  },
  {
   "cell_type": "code",
   "execution_count": 11,
   "id": "f9b4866f",
   "metadata": {},
   "outputs": [
    {
     "data": {
      "text/html": [
       "<div>\n",
       "<style scoped>\n",
       "    .dataframe tbody tr th:only-of-type {\n",
       "        vertical-align: middle;\n",
       "    }\n",
       "\n",
       "    .dataframe tbody tr th {\n",
       "        vertical-align: top;\n",
       "    }\n",
       "\n",
       "    .dataframe thead th {\n",
       "        text-align: right;\n",
       "    }\n",
       "</style>\n",
       "<table border=\"1\" class=\"dataframe\">\n",
       "  <thead>\n",
       "    <tr style=\"text-align: right;\">\n",
       "      <th></th>\n",
       "      <th>file</th>\n",
       "      <th>orderid</th>\n",
       "    </tr>\n",
       "  </thead>\n",
       "  <tbody>\n",
       "    <tr>\n",
       "      <th>0</th>\n",
       "      <td>/cegatbucket/cegatsamples/S7100_230206_CustomR...</td>\n",
       "      <td>201207</td>\n",
       "    </tr>\n",
       "    <tr>\n",
       "      <th>1</th>\n",
       "      <td>/cegatbucket/cegatsamples/S7100_230206_CustomR...</td>\n",
       "      <td>201209</td>\n",
       "    </tr>\n",
       "    <tr>\n",
       "      <th>2</th>\n",
       "      <td>/cegatbucket/cegatsamples/S7100_230206_CustomR...</td>\n",
       "      <td>201213</td>\n",
       "    </tr>\n",
       "    <tr>\n",
       "      <th>3</th>\n",
       "      <td>/cegatbucket/cegatsamples/S7100_230206_CustomR...</td>\n",
       "      <td>201221</td>\n",
       "    </tr>\n",
       "    <tr>\n",
       "      <th>4</th>\n",
       "      <td>/cegatbucket/cegatsamples/S7100_230206_CustomR...</td>\n",
       "      <td>201226</td>\n",
       "    </tr>\n",
       "    <tr>\n",
       "      <th>...</th>\n",
       "      <td>...</td>\n",
       "      <td>...</td>\n",
       "    </tr>\n",
       "    <tr>\n",
       "      <th>967</th>\n",
       "      <td>/cegatbucket/cegatsamples/S7100_231129_1105/03...</td>\n",
       "      <td>211634</td>\n",
       "    </tr>\n",
       "    <tr>\n",
       "      <th>968</th>\n",
       "      <td>/cegatbucket/cegatsamples/S7100_231129_1105/03...</td>\n",
       "      <td>211652</td>\n",
       "    </tr>\n",
       "    <tr>\n",
       "      <th>969</th>\n",
       "      <td>/cegatbucket/cegatsamples/S7100_231129_1105/03...</td>\n",
       "      <td>211660</td>\n",
       "    </tr>\n",
       "    <tr>\n",
       "      <th>970</th>\n",
       "      <td>/cegatbucket/cegatsamples/S7100_231129_1105/03...</td>\n",
       "      <td>211663</td>\n",
       "    </tr>\n",
       "    <tr>\n",
       "      <th>971</th>\n",
       "      <td>/cegatbucket/cegatsamples/S7100_231129_1105/03...</td>\n",
       "      <td>211664</td>\n",
       "    </tr>\n",
       "  </tbody>\n",
       "</table>\n",
       "<p>972 rows × 2 columns</p>\n",
       "</div>"
      ],
      "text/plain": [
       "                                                  file orderid\n",
       "0    /cegatbucket/cegatsamples/S7100_230206_CustomR...  201207\n",
       "1    /cegatbucket/cegatsamples/S7100_230206_CustomR...  201209\n",
       "2    /cegatbucket/cegatsamples/S7100_230206_CustomR...  201213\n",
       "3    /cegatbucket/cegatsamples/S7100_230206_CustomR...  201221\n",
       "4    /cegatbucket/cegatsamples/S7100_230206_CustomR...  201226\n",
       "..                                                 ...     ...\n",
       "967  /cegatbucket/cegatsamples/S7100_231129_1105/03...  211634\n",
       "968  /cegatbucket/cegatsamples/S7100_231129_1105/03...  211652\n",
       "969  /cegatbucket/cegatsamples/S7100_231129_1105/03...  211660\n",
       "970  /cegatbucket/cegatsamples/S7100_231129_1105/03...  211663\n",
       "971  /cegatbucket/cegatsamples/S7100_231129_1105/03...  211664\n",
       "\n",
       "[972 rows x 2 columns]"
      ]
     },
     "execution_count": 11,
     "metadata": {},
     "output_type": "execute_result"
    }
   ],
   "source": [
    "vcf_files\n"
   ]
  },
  {
   "cell_type": "code",
   "execution_count": 12,
   "id": "0ac4d0ac",
   "metadata": {},
   "outputs": [
    {
     "data": {
      "text/plain": [
       "'/cegatbucket/cegatsamples/S7100_230206_CustomReference/03_snvs/201207_S7100Nr256_wgs.hard-filtered.vcf.gz'"
      ]
     },
     "execution_count": 12,
     "metadata": {},
     "output_type": "execute_result"
    }
   ],
   "source": [
    "vcf_files.iloc[0,0]"
   ]
  },
  {
   "cell_type": "code",
   "execution_count": 13,
   "id": "fbcc51b6",
   "metadata": {},
   "outputs": [
    {
     "data": {
      "text/plain": [
       "analysis\n",
       "WGS    663\n",
       "WES    309\n",
       "Name: count, dtype: int64"
      ]
     },
     "execution_count": 13,
     "metadata": {},
     "output_type": "execute_result"
    }
   ],
   "source": [
    "vcf_files['analysis'] = \"WES\"\n",
    "vcf_files.loc[vcf_files['file'].str.contains('wgs'),'analysis']='WGS'\n",
    "vcf_files['analysis'].value_counts()"
   ]
  },
  {
   "cell_type": "code",
   "execution_count": 14,
   "id": "28617345",
   "metadata": {},
   "outputs": [],
   "source": [
    "vcf_files=vcf_files.loc[vcf_files['orderid']!='EXCLUDED']\n",
    "vcf_files=vcf_files.reset_index()\n",
    "vcf_files=vcf_files.drop(columns=['index'])"
   ]
  },
  {
   "cell_type": "code",
   "execution_count": 15,
   "id": "528e8cb0",
   "metadata": {},
   "outputs": [
    {
     "data": {
      "text/plain": [
       "orderid\n",
       "False    971\n",
       "True       1\n",
       "Name: count, dtype: int64"
      ]
     },
     "execution_count": 15,
     "metadata": {},
     "output_type": "execute_result"
    }
   ],
   "source": [
    "vcf_files['orderid'].duplicated().value_counts()"
   ]
  },
  {
   "cell_type": "code",
   "execution_count": 16,
   "id": "d5e8341f",
   "metadata": {},
   "outputs": [
    {
     "data": {
      "text/html": [
       "<div>\n",
       "<style scoped>\n",
       "    .dataframe tbody tr th:only-of-type {\n",
       "        vertical-align: middle;\n",
       "    }\n",
       "\n",
       "    .dataframe tbody tr th {\n",
       "        vertical-align: top;\n",
       "    }\n",
       "\n",
       "    .dataframe thead th {\n",
       "        text-align: right;\n",
       "    }\n",
       "</style>\n",
       "<table border=\"1\" class=\"dataframe\">\n",
       "  <thead>\n",
       "    <tr style=\"text-align: right;\">\n",
       "      <th></th>\n",
       "      <th>file</th>\n",
       "      <th>orderid</th>\n",
       "      <th>analysis</th>\n",
       "    </tr>\n",
       "  </thead>\n",
       "  <tbody>\n",
       "    <tr>\n",
       "      <th>396</th>\n",
       "      <td>/cegatbucket/cegatsamples/S7100_230811_1538/03...</td>\n",
       "      <td>210451</td>\n",
       "      <td>WES</td>\n",
       "    </tr>\n",
       "  </tbody>\n",
       "</table>\n",
       "</div>"
      ],
      "text/plain": [
       "                                                  file orderid analysis\n",
       "396  /cegatbucket/cegatsamples/S7100_230811_1538/03...  210451      WES"
      ]
     },
     "execution_count": 16,
     "metadata": {},
     "output_type": "execute_result"
    }
   ],
   "source": [
    "vcf_files.loc[vcf_files['orderid'].duplicated()]"
   ]
  },
  {
   "cell_type": "code",
   "execution_count": 17,
   "id": "90a3cc92",
   "metadata": {},
   "outputs": [
    {
     "data": {
      "text/html": [
       "<div>\n",
       "<style scoped>\n",
       "    .dataframe tbody tr th:only-of-type {\n",
       "        vertical-align: middle;\n",
       "    }\n",
       "\n",
       "    .dataframe tbody tr th {\n",
       "        vertical-align: top;\n",
       "    }\n",
       "\n",
       "    .dataframe thead th {\n",
       "        text-align: right;\n",
       "    }\n",
       "</style>\n",
       "<table border=\"1\" class=\"dataframe\">\n",
       "  <thead>\n",
       "    <tr style=\"text-align: right;\">\n",
       "      <th></th>\n",
       "      <th>file</th>\n",
       "      <th>orderid</th>\n",
       "      <th>analysis</th>\n",
       "    </tr>\n",
       "  </thead>\n",
       "  <tbody>\n",
       "    <tr>\n",
       "      <th>341</th>\n",
       "      <td>/cegatbucket/cegatsamples/S7100_230808_0853/03...</td>\n",
       "      <td>210451</td>\n",
       "      <td>WES</td>\n",
       "    </tr>\n",
       "    <tr>\n",
       "      <th>396</th>\n",
       "      <td>/cegatbucket/cegatsamples/S7100_230811_1538/03...</td>\n",
       "      <td>210451</td>\n",
       "      <td>WES</td>\n",
       "    </tr>\n",
       "  </tbody>\n",
       "</table>\n",
       "</div>"
      ],
      "text/plain": [
       "                                                  file orderid analysis\n",
       "341  /cegatbucket/cegatsamples/S7100_230808_0853/03...  210451      WES\n",
       "396  /cegatbucket/cegatsamples/S7100_230811_1538/03...  210451      WES"
      ]
     },
     "execution_count": 17,
     "metadata": {},
     "output_type": "execute_result"
    }
   ],
   "source": [
    "vcf_files.loc[vcf_files['orderid']=='210451']"
   ]
  },
  {
   "cell_type": "code",
   "execution_count": 120,
   "id": "4ed73bab",
   "metadata": {},
   "outputs": [
    {
     "data": {
      "text/plain": [
       "'/cegatbucket/cegatsamples/S7100_250303_1032/03_small_variants/213713_S7100Nr3798_S000021.snvs_indels.vcf.gz'"
      ]
     },
     "execution_count": 120,
     "metadata": {},
     "output_type": "execute_result"
    }
   ],
   "source": [
    "vcf_files.iloc[1392,1]"
   ]
  },
  {
   "cell_type": "code",
   "execution_count": 122,
   "id": "ab114365",
   "metadata": {},
   "outputs": [
    {
     "data": {
      "text/plain": [
       "'/cegatbucket/cegatsamples/S7100_250321_1010/03_small_variants/213713_S7100Nr3798_S000021.snvs_indels.vcf.gz'"
      ]
     },
     "execution_count": 122,
     "metadata": {},
     "output_type": "execute_result"
    }
   ],
   "source": [
    "vcf_files.iloc[1466,1]"
   ]
  },
  {
   "cell_type": "code",
   "execution_count": 18,
   "id": "3fa00cc7",
   "metadata": {},
   "outputs": [
    {
     "data": {
      "text/plain": [
       "file\n",
       "True     663\n",
       "False    309\n",
       "Name: count, dtype: int64"
      ]
     },
     "execution_count": 18,
     "metadata": {},
     "output_type": "execute_result"
    }
   ],
   "source": [
    "vcf_files['file'].str.contains('wgs').value_counts()"
   ]
  },
  {
   "cell_type": "code",
   "execution_count": 19,
   "id": "1e93c4c7",
   "metadata": {},
   "outputs": [],
   "source": [
    "vcf_files.to_excel(\"vcf_file_old_cegat_v2.xlsx\",index=False)"
   ]
  },
  {
   "cell_type": "markdown",
   "id": "f0d62249",
   "metadata": {},
   "source": [
    "BAM files"
   ]
  },
  {
   "cell_type": "code",
   "execution_count": 20,
   "id": "945d7de1",
   "metadata": {},
   "outputs": [
    {
     "data": {
      "text/plain": [
       "['/cegatbucket/cegatsamples/S7100_230206_CustomReference/02_bam/',\n",
       " '/cegatbucket/cegatsamples/S7100_230413_0827/02_bam/',\n",
       " '/cegatbucket/cegatsamples/S7100_230418_0919/02_bam/',\n",
       " '/cegatbucket/cegatsamples/S7100_230503_1504/02_bam/',\n",
       " '/cegatbucket/cegatsamples/S7100_230511_1011/02_bam/',\n",
       " '/cegatbucket/cegatsamples/S7100_230516_1042/02_bam/',\n",
       " '/cegatbucket/cegatsamples/S7100_230523_0918/02_bam/',\n",
       " '/cegatbucket/cegatsamples/S7100_230531_1716/02_bam/',\n",
       " '/cegatbucket/cegatsamples/S7100_230605_1036/02_bam/',\n",
       " '/cegatbucket/cegatsamples/S7100_230606_0935/02_bam/',\n",
       " '/cegatbucket/cegatsamples/S7100_230613_0838/02_bam/',\n",
       " '/cegatbucket/cegatsamples/S7100_230626_0915/02_bam/',\n",
       " '/cegatbucket/cegatsamples/S7100_230627_1322/02_bam/',\n",
       " '/cegatbucket/cegatsamples/S7100_230704_1252/02_bam/',\n",
       " '/cegatbucket/cegatsamples/S7100_230711_0919/02_bam/',\n",
       " '/cegatbucket/cegatsamples/S7100_230718_1706/02_bam/',\n",
       " '/cegatbucket/cegatsamples/S7100_230719_2042/02_bam/',\n",
       " '/cegatbucket/cegatsamples/S7100_230726_0944/02_bam/',\n",
       " '/cegatbucket/cegatsamples/S7100_230727_1604/02_bam/',\n",
       " '/cegatbucket/cegatsamples/S7100_230731_1010/02_bam/',\n",
       " '/cegatbucket/cegatsamples/S7100_230801_1219/02_bam/',\n",
       " '/cegatbucket/cegatsamples/S7100_230808_0853/02_bam/',\n",
       " '/cegatbucket/cegatsamples/S7100_230809_1022/02_bam/',\n",
       " '/cegatbucket/cegatsamples/S7100_230811_1538/02_bam/',\n",
       " '/cegatbucket/cegatsamples/S7100_230814_2037/02_bam/',\n",
       " '/cegatbucket/cegatsamples/S7100_230819_0019/02_bam/',\n",
       " '/cegatbucket/cegatsamples/S7100_230822_0914/02_bam/',\n",
       " '/cegatbucket/cegatsamples/S7100_230823_1320/02_bam/',\n",
       " '/cegatbucket/cegatsamples/S7100_230825_1254/02_bam/',\n",
       " '/cegatbucket/cegatsamples/S7100_230831_0924/02_bam/',\n",
       " '/cegatbucket/cegatsamples/S7100_230901_1307/02_bam/',\n",
       " '/cegatbucket/cegatsamples/S7100_230904_1010/02_bam/',\n",
       " '/cegatbucket/cegatsamples/S7100_230905_1803/02_bam/',\n",
       " '/cegatbucket/cegatsamples/S7100_230910_2203/02_bam/',\n",
       " '/cegatbucket/cegatsamples/S7100_230911_0940/02_bam/',\n",
       " '/cegatbucket/cegatsamples/S7100_230912_1020/02_bam/',\n",
       " '/cegatbucket/cegatsamples/S7100_230913_1343/02_bam/',\n",
       " '/cegatbucket/cegatsamples/S7100_230918_1013/02_bam/',\n",
       " '/cegatbucket/cegatsamples/S7100_230918_2224/02_bam/',\n",
       " '/cegatbucket/cegatsamples/S7100_230925_1343/02_bam/',\n",
       " '/cegatbucket/cegatsamples/S7100_230926_0939/02_bam/',\n",
       " '/cegatbucket/cegatsamples/S7100_230926_1536/02_bam/',\n",
       " '/cegatbucket/cegatsamples/S7100_231002_1400/02_bam/',\n",
       " '/cegatbucket/cegatsamples/S7100_231004_1115/02_bam/',\n",
       " '/cegatbucket/cegatsamples/S7100_231010_1505/02_bam/',\n",
       " '/cegatbucket/cegatsamples/S7100_231012_0909/02_bam/',\n",
       " '/cegatbucket/cegatsamples/S7100_231017_2217/02_bam/',\n",
       " '/cegatbucket/cegatsamples/S7100_231018_1132/02_bam/',\n",
       " '/cegatbucket/cegatsamples/S7100_231024_1607/02_bam/',\n",
       " '/cegatbucket/cegatsamples/S7100_231030_1145/02_bam/',\n",
       " '/cegatbucket/cegatsamples/S7100_231030_1400/02_bam/',\n",
       " '/cegatbucket/cegatsamples/S7100_231031_1008/02_bam/',\n",
       " '/cegatbucket/cegatsamples/S7100_231106_1248/02_bam/',\n",
       " '/cegatbucket/cegatsamples/S7100_231107_1422/02_bam/',\n",
       " '/cegatbucket/cegatsamples/S7100_231114_1054/02_bam/',\n",
       " '/cegatbucket/cegatsamples/S7100_231114_1533/02_bam/',\n",
       " '/cegatbucket/cegatsamples/S7100_231121_0857/02_bam/',\n",
       " '/cegatbucket/cegatsamples/S7100_231129_1105/02_bam/']"
      ]
     },
     "execution_count": 20,
     "metadata": {},
     "output_type": "execute_result"
    }
   ],
   "source": [
    "modified_folders = [item.replace(\"03_snvs\", \"02_bam\") for item in folders]\n",
    "modified_folders"
   ]
  },
  {
   "cell_type": "code",
   "execution_count": 21,
   "id": "daa78713",
   "metadata": {},
   "outputs": [
    {
     "data": {
      "text/html": [
       "<div>\n",
       "<style scoped>\n",
       "    .dataframe tbody tr th:only-of-type {\n",
       "        vertical-align: middle;\n",
       "    }\n",
       "\n",
       "    .dataframe tbody tr th {\n",
       "        vertical-align: top;\n",
       "    }\n",
       "\n",
       "    .dataframe thead th {\n",
       "        text-align: right;\n",
       "    }\n",
       "</style>\n",
       "<table border=\"1\" class=\"dataframe\">\n",
       "  <thead>\n",
       "    <tr style=\"text-align: right;\">\n",
       "      <th></th>\n",
       "      <th>file</th>\n",
       "      <th>orderid</th>\n",
       "    </tr>\n",
       "  </thead>\n",
       "  <tbody>\n",
       "    <tr>\n",
       "      <th>0</th>\n",
       "      <td>/cegatbucket/cegatsamples/S7100_230206_CustomR...</td>\n",
       "      <td>201207</td>\n",
       "    </tr>\n",
       "    <tr>\n",
       "      <th>1</th>\n",
       "      <td>/cegatbucket/cegatsamples/S7100_230206_CustomR...</td>\n",
       "      <td>201209</td>\n",
       "    </tr>\n",
       "    <tr>\n",
       "      <th>2</th>\n",
       "      <td>/cegatbucket/cegatsamples/S7100_230206_CustomR...</td>\n",
       "      <td>201213</td>\n",
       "    </tr>\n",
       "    <tr>\n",
       "      <th>3</th>\n",
       "      <td>/cegatbucket/cegatsamples/S7100_230206_CustomR...</td>\n",
       "      <td>201221</td>\n",
       "    </tr>\n",
       "    <tr>\n",
       "      <th>4</th>\n",
       "      <td>/cegatbucket/cegatsamples/S7100_230206_CustomR...</td>\n",
       "      <td>201226</td>\n",
       "    </tr>\n",
       "    <tr>\n",
       "      <th>...</th>\n",
       "      <td>...</td>\n",
       "      <td>...</td>\n",
       "    </tr>\n",
       "    <tr>\n",
       "      <th>967</th>\n",
       "      <td>/cegatbucket/cegatsamples/S7100_231129_1105/02...</td>\n",
       "      <td>211634</td>\n",
       "    </tr>\n",
       "    <tr>\n",
       "      <th>968</th>\n",
       "      <td>/cegatbucket/cegatsamples/S7100_231129_1105/02...</td>\n",
       "      <td>211652</td>\n",
       "    </tr>\n",
       "    <tr>\n",
       "      <th>969</th>\n",
       "      <td>/cegatbucket/cegatsamples/S7100_231129_1105/02...</td>\n",
       "      <td>211660</td>\n",
       "    </tr>\n",
       "    <tr>\n",
       "      <th>970</th>\n",
       "      <td>/cegatbucket/cegatsamples/S7100_231129_1105/02...</td>\n",
       "      <td>211663</td>\n",
       "    </tr>\n",
       "    <tr>\n",
       "      <th>971</th>\n",
       "      <td>/cegatbucket/cegatsamples/S7100_231129_1105/02...</td>\n",
       "      <td>211664</td>\n",
       "    </tr>\n",
       "  </tbody>\n",
       "</table>\n",
       "<p>972 rows × 2 columns</p>\n",
       "</div>"
      ],
      "text/plain": [
       "                                                  file orderid\n",
       "0    /cegatbucket/cegatsamples/S7100_230206_CustomR...  201207\n",
       "1    /cegatbucket/cegatsamples/S7100_230206_CustomR...  201209\n",
       "2    /cegatbucket/cegatsamples/S7100_230206_CustomR...  201213\n",
       "3    /cegatbucket/cegatsamples/S7100_230206_CustomR...  201221\n",
       "4    /cegatbucket/cegatsamples/S7100_230206_CustomR...  201226\n",
       "..                                                 ...     ...\n",
       "967  /cegatbucket/cegatsamples/S7100_231129_1105/02...  211634\n",
       "968  /cegatbucket/cegatsamples/S7100_231129_1105/02...  211652\n",
       "969  /cegatbucket/cegatsamples/S7100_231129_1105/02...  211660\n",
       "970  /cegatbucket/cegatsamples/S7100_231129_1105/02...  211663\n",
       "971  /cegatbucket/cegatsamples/S7100_231129_1105/02...  211664\n",
       "\n",
       "[972 rows x 2 columns]"
      ]
     },
     "execution_count": 21,
     "metadata": {},
     "output_type": "execute_result"
    }
   ],
   "source": [
    "\n",
    "bam_files=pd.DataFrame()\n",
    "for i in modified_folders:\n",
    "    #print(i)\n",
    "    temp=pd.DataFrame(glob.glob(i + \"*.bam\"), columns=[\"file\"])\n",
    "    temp[\"orderid\"]= temp[\"file\"].str.split(\"/\",expand=True).iloc[:,-1].str.split(\"_\",expand=True).iloc[:,0]\n",
    "    bam_files = pd.concat([bam_files, temp], ignore_index=True)\n",
    "bam_files"
   ]
  },
  {
   "cell_type": "code",
   "execution_count": 24,
   "id": "92be1978",
   "metadata": {},
   "outputs": [],
   "source": [
    "bam_files.to_excel(\"bam_file_old_cegat_v2.xlsx\",index=False)"
   ]
  },
  {
   "cell_type": "code",
   "execution_count": 25,
   "id": "b84162dc",
   "metadata": {},
   "outputs": [],
   "source": [
    "modified_folders = [item.replace(\"03_snvs\", \"04_cnvs\") for item in folders]\n",
    "bam_files=pd.DataFrame()\n",
    "for i in modified_folders:\n",
    "    #print(i)\n",
    "    temp=pd.DataFrame(glob.glob(i + \"*.vcf.gz\"), columns=[\"file\"])\n",
    "    temp[\"orderid\"]= temp[\"file\"].str.split(\"/\",expand=True).iloc[:,-1].str.split(\"_\",expand=True).iloc[:,0]\n",
    "    bam_files = pd.concat([bam_files, temp], ignore_index=True)\n",
    "bam_files.to_excel(\"cnv_file_old_cegat_v2.xlsx\",index=False)"
   ]
  },
  {
   "cell_type": "code",
   "execution_count": 26,
   "id": "cb7a20d1",
   "metadata": {},
   "outputs": [],
   "source": [
    "modified_folders = [item.replace(\"03_snvs\", \"05_svs\") for item in folders]\n",
    "bam_files=pd.DataFrame()\n",
    "for i in modified_folders:\n",
    "    #print(i)\n",
    "    temp=pd.DataFrame(glob.glob(i + \"*.vcf.gz\"), columns=[\"file\"])\n",
    "    temp[\"orderid\"]= temp[\"file\"].str.split(\"/\",expand=True).iloc[:,-1].str.split(\"_\",expand=True).iloc[:,0]\n",
    "    bam_files = pd.concat([bam_files, temp], ignore_index=True)\n",
    "bam_files.to_excel(\"sv_file_old_cegat_v2.xlsx\",index=False)"
   ]
  },
  {
   "cell_type": "code",
   "execution_count": null,
   "id": "dbb87267",
   "metadata": {},
   "outputs": [],
   "source": []
  }
 ],
 "metadata": {
  "kernelspec": {
   "display_name": "python3",
   "language": "python",
   "name": "python3"
  },
  "language_info": {
   "codemirror_mode": {
    "name": "ipython",
    "version": 3
   },
   "file_extension": ".py",
   "mimetype": "text/x-python",
   "name": "python",
   "nbconvert_exporter": "python",
   "pygments_lexer": "ipython3",
   "version": "3.12.1"
  }
 },
 "nbformat": 4,
 "nbformat_minor": 5
}
