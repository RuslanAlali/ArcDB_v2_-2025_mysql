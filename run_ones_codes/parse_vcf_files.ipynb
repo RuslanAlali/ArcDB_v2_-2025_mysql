{
 "cells": [
  {
   "cell_type": "code",
   "execution_count": 1,
   "id": "b56dd397",
   "metadata": {},
   "outputs": [],
   "source": [
    "import os\n",
    "import glob\n",
    "import pandas as pd\n",
    "import numpy as np"
   ]
  },
  {
   "cell_type": "code",
   "execution_count": null,
   "id": "9a2f2c48",
   "metadata": {},
   "outputs": [
    {
     "data": {
      "text/plain": [
       "['/cegatbucket/cegatsamples/S7100_250526_1410/03_small_variants/214030_S7100Nr4120_S000021.snvs_indels.vcf.gz']"
      ]
     },
     "execution_count": 6,
     "metadata": {},
     "output_type": "execute_result"
    }
   ],
   "source": [
    "glob.glob(\"/cegatbucket/cegatsamples/S7100_250526_1410/03_small_variants/*.snvs_indels.vcf.gz\")"
   ]
  },
  {
   "cell_type": "code",
   "execution_count": null,
   "id": "e140a559",
   "metadata": {},
   "outputs": [],
   "source": [
    "folders=glob.glob(\"/cegatbucket/cegatsamples/S7100*/03_small_variants/\")\n",
    "len(folders)"
   ]
  },
  {
   "cell_type": "code",
   "execution_count": 109,
   "id": "e6f44b19",
   "metadata": {},
   "outputs": [
    {
     "name": "stdout",
     "output_type": "stream",
     "text": [
      "/cegatbucket/cegatsamples/S7100_20231128_0930/03_small_variants/\n",
      "/cegatbucket/cegatsamples/S7100_231020_0952/03_small_variants/\n",
      "/cegatbucket/cegatsamples/S7100_231205_0949/03_small_variants/\n",
      "/cegatbucket/cegatsamples/S7100_231208_1525/03_small_variants/\n",
      "/cegatbucket/cegatsamples/S7100_231213_1425/03_small_variants/\n",
      "/cegatbucket/cegatsamples/S7100_231215_1615/03_small_variants/\n",
      "/cegatbucket/cegatsamples/S7100_231219_0838/03_small_variants/\n",
      "/cegatbucket/cegatsamples/S7100_231227_1247/03_small_variants/\n",
      "/cegatbucket/cegatsamples/S7100_240102_0902/03_small_variants/\n",
      "/cegatbucket/cegatsamples/S7100_240108_1536/03_small_variants/\n",
      "/cegatbucket/cegatsamples/S7100_240109_0852/03_small_variants/\n",
      "/cegatbucket/cegatsamples/S7100_240116_0858/03_small_variants/\n",
      "/cegatbucket/cegatsamples/S7100_240116_1019/03_small_variants/\n",
      "/cegatbucket/cegatsamples/S7100_240123_1113/03_small_variants/\n",
      "/cegatbucket/cegatsamples/S7100_240123_1256/03_small_variants/\n",
      "/cegatbucket/cegatsamples/S7100_240130_0835/03_small_variants/\n",
      "/cegatbucket/cegatsamples/S7100_240130_1135/03_small_variants/\n",
      "/cegatbucket/cegatsamples/S7100_240205_0905/03_small_variants/\n",
      "/cegatbucket/cegatsamples/S7100_240212_1000/03_small_variants/\n",
      "/cegatbucket/cegatsamples/S7100_240212_1018/03_small_variants/\n",
      "/cegatbucket/cegatsamples/S7100_240219_0906/03_small_variants/\n",
      "/cegatbucket/cegatsamples/S7100_240220_0928/03_small_variants/\n",
      "/cegatbucket/cegatsamples/S7100_240223_0948/03_small_variants/\n",
      "/cegatbucket/cegatsamples/S7100_240226_1029/03_small_variants/\n",
      "/cegatbucket/cegatsamples/S7100_240228_1342/03_small_variants/\n",
      "/cegatbucket/cegatsamples/S7100_240229_1509/03_small_variants/\n",
      "/cegatbucket/cegatsamples/S7100_240304_1016/03_small_variants/\n",
      "/cegatbucket/cegatsamples/S7100_240304_1324/03_small_variants/\n",
      "/cegatbucket/cegatsamples/S7100_240311_0909/03_small_variants/\n",
      "/cegatbucket/cegatsamples/S7100_240311_1112/03_small_variants/\n",
      "/cegatbucket/cegatsamples/S7100_240319_0810/03_small_variants/\n",
      "/cegatbucket/cegatsamples/S7100_240319_0925/03_small_variants/\n",
      "/cegatbucket/cegatsamples/S7100_240326_0755/03_small_variants/\n",
      "/cegatbucket/cegatsamples/S7100_240326_0826/03_small_variants/\n",
      "/cegatbucket/cegatsamples/S7100_240328_0912/03_small_variants/\n",
      "/cegatbucket/cegatsamples/S7100_240402_1255/03_small_variants/\n",
      "/cegatbucket/cegatsamples/S7100_240409_1040/03_small_variants/\n",
      "/cegatbucket/cegatsamples/S7100_240409_1728/03_small_variants/\n",
      "/cegatbucket/cegatsamples/S7100_240412_1009/03_small_variants/\n",
      "/cegatbucket/cegatsamples/S7100_240416_0955/03_small_variants/\n",
      "/cegatbucket/cegatsamples/S7100_240422_1120/03_small_variants/\n",
      "/cegatbucket/cegatsamples/S7100_240429_0852/03_small_variants/\n",
      "/cegatbucket/cegatsamples/S7100_240507_0824/03_small_variants/\n",
      "/cegatbucket/cegatsamples/S7100_240507_0856/03_small_variants/\n",
      "/cegatbucket/cegatsamples/S7100_240513_1340/03_small_variants/\n",
      "/cegatbucket/cegatsamples/S7100_240516_1251/03_small_variants/\n",
      "/cegatbucket/cegatsamples/S7100_240516_1419/03_small_variants/\n",
      "/cegatbucket/cegatsamples/S7100_240517_0841/03_small_variants/\n",
      "/cegatbucket/cegatsamples/S7100_240521_1052/03_small_variants/\n",
      "/cegatbucket/cegatsamples/S7100_240521_1739/03_small_variants/\n",
      "/cegatbucket/cegatsamples/S7100_240521_1859/03_small_variants/\n",
      "/cegatbucket/cegatsamples/S7100_240527_0940/03_small_variants/\n",
      "/cegatbucket/cegatsamples/S7100_240527_1108/03_small_variants/\n",
      "/cegatbucket/cegatsamples/S7100_240528_1453/03_small_variants/\n",
      "/cegatbucket/cegatsamples/S7100_240603_1100/03_small_variants/\n",
      "/cegatbucket/cegatsamples/S7100_240606_1506/03_small_variants/\n",
      "/cegatbucket/cegatsamples/S7100_240610_1322/03_small_variants/\n",
      "/cegatbucket/cegatsamples/S7100_240610_1341/03_small_variants/\n",
      "/cegatbucket/cegatsamples/S7100_240618_0854/03_small_variants/\n",
      "/cegatbucket/cegatsamples/S7100_240618_0955/03_small_variants/\n",
      "/cegatbucket/cegatsamples/S7100_240618_1419/03_small_variants/\n",
      "/cegatbucket/cegatsamples/S7100_240625_0903/03_small_variants/\n",
      "/cegatbucket/cegatsamples/S7100_240626_1144/03_small_variants/\n",
      "/cegatbucket/cegatsamples/S7100_240702_0833/03_small_variants/\n",
      "/cegatbucket/cegatsamples/S7100_240709_1507/03_small_variants/\n",
      "/cegatbucket/cegatsamples/S7100_240722_1126/03_small_variants/\n",
      "/cegatbucket/cegatsamples/S7100_240722_1628/03_small_variants/\n",
      "/cegatbucket/cegatsamples/S7100_240722_1730/03_small_variants/\n",
      "/cegatbucket/cegatsamples/S7100_240729_1033/03_small_variants/\n",
      "/cegatbucket/cegatsamples/S7100_240802_0918/03_small_variants/\n",
      "/cegatbucket/cegatsamples/S7100_240805_0924/03_small_variants/\n",
      "/cegatbucket/cegatsamples/S7100_240805_1511/03_small_variants/\n",
      "/cegatbucket/cegatsamples/S7100_240812_1006/03_small_variants/\n",
      "/cegatbucket/cegatsamples/S7100_240812_1118/03_small_variants/\n",
      "/cegatbucket/cegatsamples/S7100_240819_0804/03_small_variants/\n",
      "/cegatbucket/cegatsamples/S7100_240819_1051/03_small_variants/\n",
      "/cegatbucket/cegatsamples/S7100_240826_1314/03_small_variants/\n",
      "/cegatbucket/cegatsamples/S7100_240826_1426/03_small_variants/\n",
      "/cegatbucket/cegatsamples/S7100_240902_1641/03_small_variants/\n",
      "/cegatbucket/cegatsamples/S7100_240903_0923/03_small_variants/\n",
      "/cegatbucket/cegatsamples/S7100_240906_1119/03_small_variants/\n",
      "/cegatbucket/cegatsamples/S7100_240909_0844/03_small_variants/\n",
      "/cegatbucket/cegatsamples/S7100_240909_1049/03_small_variants/\n",
      "/cegatbucket/cegatsamples/S7100_240917_1208/03_small_variants/\n",
      "/cegatbucket/cegatsamples/S7100_240917_1432/03_small_variants/\n",
      "/cegatbucket/cegatsamples/S7100_240924_0855/03_small_variants/\n",
      "/cegatbucket/cegatsamples/S7100_240924_0855b/03_small_variants/\n",
      "/cegatbucket/cegatsamples/S7100_240924_1132/03_small_variants/\n",
      "/cegatbucket/cegatsamples/S7100_240924_1155/03_small_variants/\n",
      "/cegatbucket/cegatsamples/S7100_240930_1130/03_small_variants/\n",
      "/cegatbucket/cegatsamples/S7100_241001_0840/03_small_variants/\n",
      "/cegatbucket/cegatsamples/S7100_241004_0806/03_small_variants/\n",
      "/cegatbucket/cegatsamples/S7100_241008_1418/03_small_variants/\n",
      "/cegatbucket/cegatsamples/S7100_241008_1757/03_small_variants/\n",
      "/cegatbucket/cegatsamples/S7100_241014_0953/03_small_variants/\n",
      "/cegatbucket/cegatsamples/S7100_241016_1403/03_small_variants/\n",
      "/cegatbucket/cegatsamples/S7100_241018_1503/03_small_variants/\n",
      "/cegatbucket/cegatsamples/S7100_241022_0756/03_small_variants/\n",
      "/cegatbucket/cegatsamples/S7100_241022_1144/03_small_variants/\n",
      "/cegatbucket/cegatsamples/S7100_241028_0928/03_small_variants/\n",
      "/cegatbucket/cegatsamples/S7100_241029_1053/03_small_variants/\n",
      "/cegatbucket/cegatsamples/S7100_241030_1143/03_small_variants/\n",
      "/cegatbucket/cegatsamples/S7100_241108_1409/03_small_variants/\n",
      "/cegatbucket/cegatsamples/S7100_241112_0918/03_small_variants/\n",
      "/cegatbucket/cegatsamples/S7100_241112_1107/03_small_variants/\n",
      "/cegatbucket/cegatsamples/S7100_241119_0848/03_small_variants/\n",
      "/cegatbucket/cegatsamples/S7100_241122_0917/03_small_variants/\n",
      "/cegatbucket/cegatsamples/S7100_241125_0952/03_small_variants/\n",
      "/cegatbucket/cegatsamples/S7100_241126_0949/03_small_variants/\n",
      "/cegatbucket/cegatsamples/S7100_241203_1511/03_small_variants/\n",
      "/cegatbucket/cegatsamples/S7100_241203_1651/03_small_variants/\n",
      "/cegatbucket/cegatsamples/S7100_241209_1440/03_small_variants/\n",
      "/cegatbucket/cegatsamples/S7100_241209_1458/03_small_variants/\n",
      "/cegatbucket/cegatsamples/S7100_241217_0841/03_small_variants/\n",
      "/cegatbucket/cegatsamples/S7100_241217_1005/03_small_variants/\n",
      "/cegatbucket/cegatsamples/S7100_241227_0846/03_small_variants/\n",
      "/cegatbucket/cegatsamples/S7100_241227_1356/03_small_variants/\n",
      "/cegatbucket/cegatsamples/S7100_250108_0847/03_small_variants/\n",
      "/cegatbucket/cegatsamples/S7100_250114_0928/03_small_variants/\n",
      "/cegatbucket/cegatsamples/S7100_250114_1015/03_small_variants/\n",
      "/cegatbucket/cegatsamples/S7100_250122_0928/03_small_variants/\n",
      "/cegatbucket/cegatsamples/S7100_250127_1058/03_small_variants/\n",
      "/cegatbucket/cegatsamples/S7100_250127_1107/03_small_variants/\n",
      "/cegatbucket/cegatsamples/S7100_250203_1523/03_small_variants/\n",
      "/cegatbucket/cegatsamples/S7100_250204_0914/03_small_variants/\n",
      "/cegatbucket/cegatsamples/S7100_250210_1408/03_small_variants/\n",
      "/cegatbucket/cegatsamples/S7100_250213_1648/03_small_variants/\n",
      "/cegatbucket/cegatsamples/S7100_250213_1648b/03_small_variants/\n",
      "/cegatbucket/cegatsamples/S7100_250217_1510/03_small_variants/\n",
      "/cegatbucket/cegatsamples/S7100_250218_0839/03_small_variants/\n",
      "/cegatbucket/cegatsamples/S7100_250224_1014/03_small_variants/\n",
      "/cegatbucket/cegatsamples/S7100_250228_1133/03_small_variants/\n",
      "/cegatbucket/cegatsamples/S7100_250303_1032/03_small_variants/\n",
      "/cegatbucket/cegatsamples/S7100_250304_1034/03_small_variants/\n",
      "/cegatbucket/cegatsamples/S7100_250310_1314/03_small_variants/\n",
      "/cegatbucket/cegatsamples/S7100_250311_1147/03_small_variants/\n",
      "/cegatbucket/cegatsamples/S7100_250318_1117/03_small_variants/\n",
      "/cegatbucket/cegatsamples/S7100_250318_1346/03_small_variants/\n",
      "/cegatbucket/cegatsamples/S7100_250321_1010/03_small_variants/\n",
      "/cegatbucket/cegatsamples/S7100_250325_0858/03_small_variants/\n",
      "/cegatbucket/cegatsamples/S7100_250325_1129/03_small_variants/\n",
      "/cegatbucket/cegatsamples/S7100_250401_1339/03_small_variants/\n",
      "/cegatbucket/cegatsamples/S7100_250401_1626/03_small_variants/\n",
      "/cegatbucket/cegatsamples/S7100_250407_0813/03_small_variants/\n",
      "/cegatbucket/cegatsamples/S7100_250411_1558/03_small_variants/\n",
      "/cegatbucket/cegatsamples/S7100_250414_1458/03_small_variants/\n",
      "/cegatbucket/cegatsamples/S7100_250414_1530/03_small_variants/\n",
      "/cegatbucket/cegatsamples/S7100_250422_0855/03_small_variants/\n",
      "/cegatbucket/cegatsamples/S7100_250423_1043/03_small_variants/\n",
      "/cegatbucket/cegatsamples/S7100_250429_1154/03_small_variants/\n",
      "/cegatbucket/cegatsamples/S7100_250505_1656/03_small_variants/\n",
      "/cegatbucket/cegatsamples/S7100_250505_2008/03_small_variants/\n",
      "/cegatbucket/cegatsamples/S7100_250506_1534/03_small_variants/\n",
      "/cegatbucket/cegatsamples/S7100_250513_0855/03_small_variants/\n",
      "/cegatbucket/cegatsamples/S7100_250514_2013/03_small_variants/\n",
      "/cegatbucket/cegatsamples/S7100_250519_1127/03_small_variants/\n",
      "/cegatbucket/cegatsamples/S7100_250519_1209/03_small_variants/\n",
      "/cegatbucket/cegatsamples/S7100_250520_1034/03_small_variants/\n",
      "/cegatbucket/cegatsamples/S7100_250526_1410/03_small_variants/\n"
     ]
    },
    {
     "data": {
      "text/html": [
       "<div>\n",
       "<style scoped>\n",
       "    .dataframe tbody tr th:only-of-type {\n",
       "        vertical-align: middle;\n",
       "    }\n",
       "\n",
       "    .dataframe tbody tr th {\n",
       "        vertical-align: top;\n",
       "    }\n",
       "\n",
       "    .dataframe thead th {\n",
       "        text-align: right;\n",
       "    }\n",
       "</style>\n",
       "<table border=\"1\" class=\"dataframe\">\n",
       "  <thead>\n",
       "    <tr style=\"text-align: right;\">\n",
       "      <th></th>\n",
       "      <th>file</th>\n",
       "      <th>orderid</th>\n",
       "    </tr>\n",
       "  </thead>\n",
       "  <tbody>\n",
       "    <tr>\n",
       "      <th>0</th>\n",
       "      <td>/cegatbucket/cegatsamples/S7100_20231128_0930/...</td>\n",
       "      <td>211465</td>\n",
       "    </tr>\n",
       "    <tr>\n",
       "      <th>1</th>\n",
       "      <td>/cegatbucket/cegatsamples/S7100_20231128_0930/...</td>\n",
       "      <td>211511</td>\n",
       "    </tr>\n",
       "    <tr>\n",
       "      <th>2</th>\n",
       "      <td>/cegatbucket/cegatsamples/S7100_20231128_0930/...</td>\n",
       "      <td>211518</td>\n",
       "    </tr>\n",
       "    <tr>\n",
       "      <th>3</th>\n",
       "      <td>/cegatbucket/cegatsamples/S7100_20231128_0930/...</td>\n",
       "      <td>211585</td>\n",
       "    </tr>\n",
       "    <tr>\n",
       "      <th>4</th>\n",
       "      <td>/cegatbucket/cegatsamples/S7100_20231128_0930/...</td>\n",
       "      <td>211586</td>\n",
       "    </tr>\n",
       "    <tr>\n",
       "      <th>...</th>\n",
       "      <td>...</td>\n",
       "      <td>...</td>\n",
       "    </tr>\n",
       "    <tr>\n",
       "      <th>1751</th>\n",
       "      <td>/cegatbucket/cegatsamples/S7100_250520_1034/03...</td>\n",
       "      <td>214073</td>\n",
       "    </tr>\n",
       "    <tr>\n",
       "      <th>1752</th>\n",
       "      <td>/cegatbucket/cegatsamples/S7100_250520_1034/03...</td>\n",
       "      <td>214074</td>\n",
       "    </tr>\n",
       "    <tr>\n",
       "      <th>1753</th>\n",
       "      <td>/cegatbucket/cegatsamples/S7100_250520_1034/03...</td>\n",
       "      <td>214075</td>\n",
       "    </tr>\n",
       "    <tr>\n",
       "      <th>1754</th>\n",
       "      <td>/cegatbucket/cegatsamples/S7100_250520_1034/03...</td>\n",
       "      <td>214076</td>\n",
       "    </tr>\n",
       "    <tr>\n",
       "      <th>1755</th>\n",
       "      <td>/cegatbucket/cegatsamples/S7100_250526_1410/03...</td>\n",
       "      <td>214030</td>\n",
       "    </tr>\n",
       "  </tbody>\n",
       "</table>\n",
       "<p>1756 rows × 2 columns</p>\n",
       "</div>"
      ],
      "text/plain": [
       "                                                   file orderid\n",
       "0     /cegatbucket/cegatsamples/S7100_20231128_0930/...  211465\n",
       "1     /cegatbucket/cegatsamples/S7100_20231128_0930/...  211511\n",
       "2     /cegatbucket/cegatsamples/S7100_20231128_0930/...  211518\n",
       "3     /cegatbucket/cegatsamples/S7100_20231128_0930/...  211585\n",
       "4     /cegatbucket/cegatsamples/S7100_20231128_0930/...  211586\n",
       "...                                                 ...     ...\n",
       "1751  /cegatbucket/cegatsamples/S7100_250520_1034/03...  214073\n",
       "1752  /cegatbucket/cegatsamples/S7100_250520_1034/03...  214074\n",
       "1753  /cegatbucket/cegatsamples/S7100_250520_1034/03...  214075\n",
       "1754  /cegatbucket/cegatsamples/S7100_250520_1034/03...  214076\n",
       "1755  /cegatbucket/cegatsamples/S7100_250526_1410/03...  214030\n",
       "\n",
       "[1756 rows x 2 columns]"
      ]
     },
     "execution_count": 109,
     "metadata": {},
     "output_type": "execute_result"
    }
   ],
   "source": [
    "vcf_files=pd.DataFrame()\n",
    "for i in folders:\n",
    "    print(i)\n",
    "    temp=pd.DataFrame(glob.glob(i + \"*.snvs_indels.vcf.gz\"), columns=[\"file\"])\n",
    "    temp[\"orderid\"]= temp[\"file\"].str.split(\"/\",expand=True).iloc[:,-1].str.split(\"_\",expand=True).iloc[:,0]\n",
    "    vcf_files = pd.concat([vcf_files, temp], ignore_index=True)\n",
    "vcf_files"
   ]
  },
  {
   "cell_type": "code",
   "execution_count": 110,
   "id": "f9b4866f",
   "metadata": {},
   "outputs": [
    {
     "data": {
      "text/html": [
       "<div>\n",
       "<style scoped>\n",
       "    .dataframe tbody tr th:only-of-type {\n",
       "        vertical-align: middle;\n",
       "    }\n",
       "\n",
       "    .dataframe tbody tr th {\n",
       "        vertical-align: top;\n",
       "    }\n",
       "\n",
       "    .dataframe thead th {\n",
       "        text-align: right;\n",
       "    }\n",
       "</style>\n",
       "<table border=\"1\" class=\"dataframe\">\n",
       "  <thead>\n",
       "    <tr style=\"text-align: right;\">\n",
       "      <th></th>\n",
       "      <th>file</th>\n",
       "      <th>orderid</th>\n",
       "    </tr>\n",
       "  </thead>\n",
       "  <tbody>\n",
       "    <tr>\n",
       "      <th>0</th>\n",
       "      <td>/cegatbucket/cegatsamples/S7100_20231128_0930/...</td>\n",
       "      <td>211465</td>\n",
       "    </tr>\n",
       "    <tr>\n",
       "      <th>1</th>\n",
       "      <td>/cegatbucket/cegatsamples/S7100_20231128_0930/...</td>\n",
       "      <td>211511</td>\n",
       "    </tr>\n",
       "    <tr>\n",
       "      <th>2</th>\n",
       "      <td>/cegatbucket/cegatsamples/S7100_20231128_0930/...</td>\n",
       "      <td>211518</td>\n",
       "    </tr>\n",
       "    <tr>\n",
       "      <th>3</th>\n",
       "      <td>/cegatbucket/cegatsamples/S7100_20231128_0930/...</td>\n",
       "      <td>211585</td>\n",
       "    </tr>\n",
       "    <tr>\n",
       "      <th>4</th>\n",
       "      <td>/cegatbucket/cegatsamples/S7100_20231128_0930/...</td>\n",
       "      <td>211586</td>\n",
       "    </tr>\n",
       "    <tr>\n",
       "      <th>...</th>\n",
       "      <td>...</td>\n",
       "      <td>...</td>\n",
       "    </tr>\n",
       "    <tr>\n",
       "      <th>1751</th>\n",
       "      <td>/cegatbucket/cegatsamples/S7100_250520_1034/03...</td>\n",
       "      <td>214073</td>\n",
       "    </tr>\n",
       "    <tr>\n",
       "      <th>1752</th>\n",
       "      <td>/cegatbucket/cegatsamples/S7100_250520_1034/03...</td>\n",
       "      <td>214074</td>\n",
       "    </tr>\n",
       "    <tr>\n",
       "      <th>1753</th>\n",
       "      <td>/cegatbucket/cegatsamples/S7100_250520_1034/03...</td>\n",
       "      <td>214075</td>\n",
       "    </tr>\n",
       "    <tr>\n",
       "      <th>1754</th>\n",
       "      <td>/cegatbucket/cegatsamples/S7100_250520_1034/03...</td>\n",
       "      <td>214076</td>\n",
       "    </tr>\n",
       "    <tr>\n",
       "      <th>1755</th>\n",
       "      <td>/cegatbucket/cegatsamples/S7100_250526_1410/03...</td>\n",
       "      <td>214030</td>\n",
       "    </tr>\n",
       "  </tbody>\n",
       "</table>\n",
       "<p>1756 rows × 2 columns</p>\n",
       "</div>"
      ],
      "text/plain": [
       "                                                   file orderid\n",
       "0     /cegatbucket/cegatsamples/S7100_20231128_0930/...  211465\n",
       "1     /cegatbucket/cegatsamples/S7100_20231128_0930/...  211511\n",
       "2     /cegatbucket/cegatsamples/S7100_20231128_0930/...  211518\n",
       "3     /cegatbucket/cegatsamples/S7100_20231128_0930/...  211585\n",
       "4     /cegatbucket/cegatsamples/S7100_20231128_0930/...  211586\n",
       "...                                                 ...     ...\n",
       "1751  /cegatbucket/cegatsamples/S7100_250520_1034/03...  214073\n",
       "1752  /cegatbucket/cegatsamples/S7100_250520_1034/03...  214074\n",
       "1753  /cegatbucket/cegatsamples/S7100_250520_1034/03...  214075\n",
       "1754  /cegatbucket/cegatsamples/S7100_250520_1034/03...  214076\n",
       "1755  /cegatbucket/cegatsamples/S7100_250526_1410/03...  214030\n",
       "\n",
       "[1756 rows x 2 columns]"
      ]
     },
     "execution_count": 110,
     "metadata": {},
     "output_type": "execute_result"
    }
   ],
   "source": [
    "vcf_files\n"
   ]
  },
  {
   "cell_type": "code",
   "execution_count": 111,
   "id": "0ac4d0ac",
   "metadata": {},
   "outputs": [
    {
     "data": {
      "text/plain": [
       "'/cegatbucket/cegatsamples/S7100_20231128_0930/03_small_variants/211465_S7100Nr1838_S000021.snvs_indels.vcf.gz'"
      ]
     },
     "execution_count": 111,
     "metadata": {},
     "output_type": "execute_result"
    }
   ],
   "source": [
    "vcf_files.iloc[0,0]"
   ]
  },
  {
   "cell_type": "code",
   "execution_count": 112,
   "id": "fbcc51b6",
   "metadata": {},
   "outputs": [
    {
     "data": {
      "text/plain": [
       "analysis\n",
       "WGS    1311\n",
       "WES     445\n",
       "Name: count, dtype: int64"
      ]
     },
     "execution_count": 112,
     "metadata": {},
     "output_type": "execute_result"
    }
   ],
   "source": [
    "vcf_files['analysis'] = \"WES\"\n",
    "vcf_files.loc[vcf_files['file'].str.contains('wgs'),'analysis']='WGS'\n",
    "vcf_files['analysis'].value_counts()"
   ]
  },
  {
   "cell_type": "code",
   "execution_count": null,
   "id": "28617345",
   "metadata": {},
   "outputs": [],
   "source": [
    "vcf_files=vcf_files.loc[vcf_files['orderid']!='EXCLUDED']\n",
    "vcf_files=vcf_files.reset_index()\n",
    "vcf_files=vcf_files.drop(columns=['index'])"
   ]
  },
  {
   "cell_type": "code",
   "execution_count": 115,
   "id": "528e8cb0",
   "metadata": {},
   "outputs": [
    {
     "data": {
      "text/plain": [
       "orderid\n",
       "False    1716\n",
       "True        9\n",
       "Name: count, dtype: int64"
      ]
     },
     "execution_count": 115,
     "metadata": {},
     "output_type": "execute_result"
    }
   ],
   "source": [
    "vcf_files['orderid'].duplicated().value_counts()"
   ]
  },
  {
   "cell_type": "code",
   "execution_count": 116,
   "id": "d5e8341f",
   "metadata": {},
   "outputs": [
    {
     "data": {
      "text/html": [
       "<div>\n",
       "<style scoped>\n",
       "    .dataframe tbody tr th:only-of-type {\n",
       "        vertical-align: middle;\n",
       "    }\n",
       "\n",
       "    .dataframe tbody tr th {\n",
       "        vertical-align: top;\n",
       "    }\n",
       "\n",
       "    .dataframe thead th {\n",
       "        text-align: right;\n",
       "    }\n",
       "</style>\n",
       "<table border=\"1\" class=\"dataframe\">\n",
       "  <thead>\n",
       "    <tr style=\"text-align: right;\">\n",
       "      <th></th>\n",
       "      <th>index</th>\n",
       "      <th>file</th>\n",
       "      <th>orderid</th>\n",
       "      <th>analysis</th>\n",
       "    </tr>\n",
       "  </thead>\n",
       "  <tbody>\n",
       "    <tr>\n",
       "      <th>515</th>\n",
       "      <td>515</td>\n",
       "      <td>/cegatbucket/cegatsamples/S7100_240527_1108/03...</td>\n",
       "      <td>212349</td>\n",
       "      <td>WGS</td>\n",
       "    </tr>\n",
       "    <tr>\n",
       "      <th>516</th>\n",
       "      <td>516</td>\n",
       "      <td>/cegatbucket/cegatsamples/S7100_240527_1108/03...</td>\n",
       "      <td>212350</td>\n",
       "      <td>WGS</td>\n",
       "    </tr>\n",
       "    <tr>\n",
       "      <th>517</th>\n",
       "      <td>517</td>\n",
       "      <td>/cegatbucket/cegatsamples/S7100_240527_1108/03...</td>\n",
       "      <td>212357</td>\n",
       "      <td>WGS</td>\n",
       "    </tr>\n",
       "    <tr>\n",
       "      <th>518</th>\n",
       "      <td>518</td>\n",
       "      <td>/cegatbucket/cegatsamples/S7100_240527_1108/03...</td>\n",
       "      <td>212359</td>\n",
       "      <td>WGS</td>\n",
       "    </tr>\n",
       "    <tr>\n",
       "      <th>519</th>\n",
       "      <td>519</td>\n",
       "      <td>/cegatbucket/cegatsamples/S7100_240527_1108/03...</td>\n",
       "      <td>212365</td>\n",
       "      <td>WGS</td>\n",
       "    </tr>\n",
       "    <tr>\n",
       "      <th>894</th>\n",
       "      <td>921</td>\n",
       "      <td>/cegatbucket/cegatsamples/S7100_241008_1418/03...</td>\n",
       "      <td>213074</td>\n",
       "      <td>WGS</td>\n",
       "    </tr>\n",
       "    <tr>\n",
       "      <th>1464</th>\n",
       "      <td>1495</td>\n",
       "      <td>/cegatbucket/cegatsamples/S7100_250321_1010/03...</td>\n",
       "      <td>213681</td>\n",
       "      <td>WES</td>\n",
       "    </tr>\n",
       "    <tr>\n",
       "      <th>1465</th>\n",
       "      <td>1496</td>\n",
       "      <td>/cegatbucket/cegatsamples/S7100_250321_1010/03...</td>\n",
       "      <td>213704</td>\n",
       "      <td>WES</td>\n",
       "    </tr>\n",
       "    <tr>\n",
       "      <th>1466</th>\n",
       "      <td>1497</td>\n",
       "      <td>/cegatbucket/cegatsamples/S7100_250321_1010/03...</td>\n",
       "      <td>213713</td>\n",
       "      <td>WES</td>\n",
       "    </tr>\n",
       "  </tbody>\n",
       "</table>\n",
       "</div>"
      ],
      "text/plain": [
       "      index                                               file orderid  \\\n",
       "515     515  /cegatbucket/cegatsamples/S7100_240527_1108/03...  212349   \n",
       "516     516  /cegatbucket/cegatsamples/S7100_240527_1108/03...  212350   \n",
       "517     517  /cegatbucket/cegatsamples/S7100_240527_1108/03...  212357   \n",
       "518     518  /cegatbucket/cegatsamples/S7100_240527_1108/03...  212359   \n",
       "519     519  /cegatbucket/cegatsamples/S7100_240527_1108/03...  212365   \n",
       "894     921  /cegatbucket/cegatsamples/S7100_241008_1418/03...  213074   \n",
       "1464   1495  /cegatbucket/cegatsamples/S7100_250321_1010/03...  213681   \n",
       "1465   1496  /cegatbucket/cegatsamples/S7100_250321_1010/03...  213704   \n",
       "1466   1497  /cegatbucket/cegatsamples/S7100_250321_1010/03...  213713   \n",
       "\n",
       "     analysis  \n",
       "515       WGS  \n",
       "516       WGS  \n",
       "517       WGS  \n",
       "518       WGS  \n",
       "519       WGS  \n",
       "894       WGS  \n",
       "1464      WES  \n",
       "1465      WES  \n",
       "1466      WES  "
      ]
     },
     "execution_count": 116,
     "metadata": {},
     "output_type": "execute_result"
    }
   ],
   "source": [
    "vcf_files.loc[vcf_files['orderid'].duplicated()]"
   ]
  },
  {
   "cell_type": "code",
   "execution_count": 125,
   "id": "90a3cc92",
   "metadata": {},
   "outputs": [
    {
     "data": {
      "text/html": [
       "<div>\n",
       "<style scoped>\n",
       "    .dataframe tbody tr th:only-of-type {\n",
       "        vertical-align: middle;\n",
       "    }\n",
       "\n",
       "    .dataframe tbody tr th {\n",
       "        vertical-align: top;\n",
       "    }\n",
       "\n",
       "    .dataframe thead th {\n",
       "        text-align: right;\n",
       "    }\n",
       "</style>\n",
       "<table border=\"1\" class=\"dataframe\">\n",
       "  <thead>\n",
       "    <tr style=\"text-align: right;\">\n",
       "      <th></th>\n",
       "      <th>index</th>\n",
       "      <th>file</th>\n",
       "      <th>orderid</th>\n",
       "      <th>analysis</th>\n",
       "    </tr>\n",
       "  </thead>\n",
       "  <tbody>\n",
       "    <tr>\n",
       "      <th>847</th>\n",
       "      <td>866</td>\n",
       "      <td>/cegatbucket/cegatsamples/S7100_240924_0855b/0...</td>\n",
       "      <td>213074</td>\n",
       "      <td>WGS</td>\n",
       "    </tr>\n",
       "    <tr>\n",
       "      <th>894</th>\n",
       "      <td>921</td>\n",
       "      <td>/cegatbucket/cegatsamples/S7100_241008_1418/03...</td>\n",
       "      <td>213074</td>\n",
       "      <td>WGS</td>\n",
       "    </tr>\n",
       "  </tbody>\n",
       "</table>\n",
       "</div>"
      ],
      "text/plain": [
       "     index                                               file orderid analysis\n",
       "847    866  /cegatbucket/cegatsamples/S7100_240924_0855b/0...  213074      WGS\n",
       "894    921  /cegatbucket/cegatsamples/S7100_241008_1418/03...  213074      WGS"
      ]
     },
     "execution_count": 125,
     "metadata": {},
     "output_type": "execute_result"
    }
   ],
   "source": [
    "vcf_files.loc[vcf_files['orderid']=='213074']"
   ]
  },
  {
   "cell_type": "code",
   "execution_count": 120,
   "id": "4ed73bab",
   "metadata": {},
   "outputs": [
    {
     "data": {
      "text/plain": [
       "'/cegatbucket/cegatsamples/S7100_250303_1032/03_small_variants/213713_S7100Nr3798_S000021.snvs_indels.vcf.gz'"
      ]
     },
     "execution_count": 120,
     "metadata": {},
     "output_type": "execute_result"
    }
   ],
   "source": [
    "vcf_files.iloc[1392,1]"
   ]
  },
  {
   "cell_type": "code",
   "execution_count": 122,
   "id": "ab114365",
   "metadata": {},
   "outputs": [
    {
     "data": {
      "text/plain": [
       "'/cegatbucket/cegatsamples/S7100_250321_1010/03_small_variants/213713_S7100Nr3798_S000021.snvs_indels.vcf.gz'"
      ]
     },
     "execution_count": 122,
     "metadata": {},
     "output_type": "execute_result"
    }
   ],
   "source": [
    "vcf_files.iloc[1466,1]"
   ]
  },
  {
   "cell_type": "code",
   "execution_count": 70,
   "id": "3fa00cc7",
   "metadata": {},
   "outputs": [
    {
     "data": {
      "text/plain": [
       "file\n",
       "True     1288\n",
       "False     437\n",
       "Name: count, dtype: int64"
      ]
     },
     "execution_count": 70,
     "metadata": {},
     "output_type": "execute_result"
    }
   ],
   "source": [
    "vcf_files['file'].str.contains('wgs').value_counts()"
   ]
  },
  {
   "cell_type": "code",
   "execution_count": 128,
   "id": "1e93c4c7",
   "metadata": {},
   "outputs": [],
   "source": [
    "vcf_files.to_excel(\"vcf_file.xlsx\",index=False)"
   ]
  },
  {
   "cell_type": "code",
   "execution_count": null,
   "id": "daa78713",
   "metadata": {},
   "outputs": [],
   "source": []
  }
 ],
 "metadata": {
  "kernelspec": {
   "display_name": "python3",
   "language": "python",
   "name": "python3"
  },
  "language_info": {
   "codemirror_mode": {
    "name": "ipython",
    "version": 3
   },
   "file_extension": ".py",
   "mimetype": "text/x-python",
   "name": "python",
   "nbconvert_exporter": "python",
   "pygments_lexer": "ipython3",
   "version": "3.12.1"
  }
 },
 "nbformat": 4,
 "nbformat_minor": 5
}
